{
 "cells": [
  {
   "cell_type": "markdown",
   "metadata": {},
   "source": [
    "# Pymaceuticals Inc.\n",
    "---\n",
    "\n",
    "### Analysis\n",
    "\n",
    "- Add your analysis here.\n",
    " "
   ]
  },
  {
   "cell_type": "code",
   "execution_count": 2,
   "metadata": {},
   "outputs": [
    {
     "data": {
      "text/html": [
       "<div>\n",
       "<style scoped>\n",
       "    .dataframe tbody tr th:only-of-type {\n",
       "        vertical-align: middle;\n",
       "    }\n",
       "\n",
       "    .dataframe tbody tr th {\n",
       "        vertical-align: top;\n",
       "    }\n",
       "\n",
       "    .dataframe thead th {\n",
       "        text-align: right;\n",
       "    }\n",
       "</style>\n",
       "<table border=\"1\" class=\"dataframe\">\n",
       "  <thead>\n",
       "    <tr style=\"text-align: right;\">\n",
       "      <th></th>\n",
       "      <th>Mouse ID</th>\n",
       "      <th>Drug Regimen</th>\n",
       "      <th>Sex</th>\n",
       "      <th>Age_months</th>\n",
       "      <th>Weight (g)</th>\n",
       "      <th>Timepoint</th>\n",
       "      <th>Tumor Volume (mm3)</th>\n",
       "      <th>Metastatic Sites</th>\n",
       "    </tr>\n",
       "  </thead>\n",
       "  <tbody>\n",
       "    <tr>\n",
       "      <th>0</th>\n",
       "      <td>k403</td>\n",
       "      <td>Ramicane</td>\n",
       "      <td>Male</td>\n",
       "      <td>21</td>\n",
       "      <td>16</td>\n",
       "      <td>0</td>\n",
       "      <td>45.000000</td>\n",
       "      <td>0</td>\n",
       "    </tr>\n",
       "    <tr>\n",
       "      <th>1</th>\n",
       "      <td>k403</td>\n",
       "      <td>Ramicane</td>\n",
       "      <td>Male</td>\n",
       "      <td>21</td>\n",
       "      <td>16</td>\n",
       "      <td>5</td>\n",
       "      <td>38.825898</td>\n",
       "      <td>0</td>\n",
       "    </tr>\n",
       "    <tr>\n",
       "      <th>2</th>\n",
       "      <td>k403</td>\n",
       "      <td>Ramicane</td>\n",
       "      <td>Male</td>\n",
       "      <td>21</td>\n",
       "      <td>16</td>\n",
       "      <td>10</td>\n",
       "      <td>35.014271</td>\n",
       "      <td>1</td>\n",
       "    </tr>\n",
       "    <tr>\n",
       "      <th>3</th>\n",
       "      <td>k403</td>\n",
       "      <td>Ramicane</td>\n",
       "      <td>Male</td>\n",
       "      <td>21</td>\n",
       "      <td>16</td>\n",
       "      <td>15</td>\n",
       "      <td>34.223992</td>\n",
       "      <td>1</td>\n",
       "    </tr>\n",
       "    <tr>\n",
       "      <th>4</th>\n",
       "      <td>k403</td>\n",
       "      <td>Ramicane</td>\n",
       "      <td>Male</td>\n",
       "      <td>21</td>\n",
       "      <td>16</td>\n",
       "      <td>20</td>\n",
       "      <td>32.997729</td>\n",
       "      <td>1</td>\n",
       "    </tr>\n",
       "  </tbody>\n",
       "</table>\n",
       "</div>"
      ],
      "text/plain": [
       "  Mouse ID Drug Regimen   Sex  Age_months  Weight (g)  Timepoint  \\\n",
       "0     k403     Ramicane  Male          21          16          0   \n",
       "1     k403     Ramicane  Male          21          16          5   \n",
       "2     k403     Ramicane  Male          21          16         10   \n",
       "3     k403     Ramicane  Male          21          16         15   \n",
       "4     k403     Ramicane  Male          21          16         20   \n",
       "\n",
       "   Tumor Volume (mm3)  Metastatic Sites  \n",
       "0           45.000000                 0  \n",
       "1           38.825898                 0  \n",
       "2           35.014271                 1  \n",
       "3           34.223992                 1  \n",
       "4           32.997729                 1  "
      ]
     },
     "execution_count": 2,
     "metadata": {},
     "output_type": "execute_result"
    }
   ],
   "source": [
    "# Dependencies and Setup\n",
    "import matplotlib.pyplot as plt\n",
    "import pandas as pd\n",
    "import scipy.stats as st\n",
    "\n",
    "# Study data files\n",
    "mouse_metadata_path = \"data/Mouse_metadata.csv\"\n",
    "study_results_path = \"data/Study_results.csv\"\n",
    "\n",
    "# Read the mouse data and the study results\n",
    "mouse_metadata = pd.read_csv(mouse_metadata_path)\n",
    "study_results = pd.read_csv(study_results_path)\n",
    "\n",
    "# Combine the data into a single dataset\n",
    "clinical_study_complete = pd.merge(mouse_metadata, study_results, how='left', on=['Mouse ID', 'Mouse ID'])\n",
    "\n",
    "# Display the data table for preview\n",
    "clinical_study_complete.head()"
   ]
  },
  {
   "cell_type": "code",
   "execution_count": 3,
   "metadata": {},
   "outputs": [
    {
     "name": "stdout",
     "output_type": "stream",
     "text": [
      "249\n"
     ]
    }
   ],
   "source": [
    "# Checking the number of mice.\n",
    "mice_count = clinical_study_complete['Mouse ID'].nunique()\n",
    "print(mice_count)"
   ]
  },
  {
   "cell_type": "code",
   "execution_count": 4,
   "metadata": {},
   "outputs": [
    {
     "name": "stdout",
     "output_type": "stream",
     "text": [
      "['g989']\n"
     ]
    }
   ],
   "source": [
    "# Getting the duplicate mice by ID number that shows up for Mouse ID and Timepoint. \n",
    "duplicate_mice = clinical_study_complete[clinical_study_complete.duplicated(subset=['Mouse ID', 'Timepoint'], keep=False)]\n",
    "duplicate_mice_ids = duplicate_mice['Mouse ID'].unique()\n",
    "\n",
    "print(duplicate_mice_ids)"
   ]
  },
  {
   "cell_type": "code",
   "execution_count": 27,
   "metadata": {},
   "outputs": [
    {
     "name": "stdout",
     "output_type": "stream",
     "text": [
      "      Mouse ID  Timepoint  Tumor Volume (mm3)  Metastatic Sites Drug Regimen     Sex  Age_months  Weight (g)\n",
      "908       g989          0           45.000000                 0     Propriva  Female          21          26\n",
      "909       g989          0           45.000000                 0     Propriva  Female          21          26\n",
      "910       g989          5           48.786801                 0     Propriva  Female          21          26\n",
      "911       g989          5           47.570392                 0     Propriva  Female          21          26\n",
      "912       g989         10           51.745156                 0     Propriva  Female          21          26\n",
      "913       g989         10           49.880528                 0     Propriva  Female          21          26\n",
      "914       g989         15           51.325852                 1     Propriva  Female          21          26\n",
      "915       g989         15           53.442020                 0     Propriva  Female          21          26\n",
      "916       g989         20           55.326122                 1     Propriva  Female          21          26\n",
      "917       g989         20           54.657650                 1     Propriva  Female          21          26\n"
     ]
    }
   ],
   "source": [
    "# Optional: Get all the data for the duplicate mouse ID. \n",
    "duplicate_mice = clinical_study_complete[clinical_study_complete.duplicated(subset=['Mouse ID', 'Timepoint'], keep=False)]\n",
    "duplicate_mouse_ids = duplicate_mice[duplicate_mice.duplicated(subset='Mouse ID', keep=False)]['Mouse ID'].unique()\n",
    "\n",
    "for mouse_id in duplicate_mouse_ids:\n",
    "    duplicate_mouse_data = duplicate_mice[duplicate_mice['Mouse ID'] == mouse_id]\n",
    "    duplicate_mouse_data = duplicate_mouse_data[['Mouse ID', 'Timepoint', 'Tumor Volume (mm3)', \n",
    "                                                 'Metastatic Sites', 'Drug Regimen', 'Sex', 'Age_months', 'Weight (g)']]\n",
    "\n",
    "    print(duplicate_mouse_data.to_string(index=True, header=True, col_space=5))"
   ]
  },
  {
   "cell_type": "code",
   "execution_count": 36,
   "metadata": {},
   "outputs": [
    {
     "name": "stdout",
     "output_type": "stream",
     "text": [
      "      Mouse ID  Timepoint  Tumor Volume (mm3)  Metastatic Sites Drug Regimen     Sex  Age_months  Weight (g)\n",
      "0         k403          0                45.0                 0     Ramicane    Male          21          16\n",
      "10        s185          0                45.0                 0    Capomulin  Female           3          17\n",
      "20        x401          0                45.0                 0    Capomulin  Female          16          15\n",
      "30        m601          0                45.0                 0    Capomulin    Male          22          17\n",
      "40        g791          0                45.0                 0     Ramicane    Male          11          16\n",
      "50        s508          0                45.0                 0     Ramicane    Male           1          17\n",
      "60        f966          0                45.0                 0    Capomulin    Male          16          17\n",
      "65        m546          0                45.0                 0     Ramicane    Male          18          16\n",
      "75        z578          0                45.0                 0     Ramicane    Male          11          16\n",
      "85        j913          0                45.0                 0     Ramicane  Female           4          17\n",
      "95        u364          0                45.0                 0    Capomulin    Male          18          17\n",
      "105       n364          0                45.0                 0     Ramicane    Male           4          17\n",
      "115       y793          0                45.0                 0    Capomulin    Male          17          17\n",
      "125       r554          0                45.0                 0    Capomulin  Female           8          17\n",
      "135       m957          0                45.0                 0    Capomulin  Female           3          19\n",
      "145       c758          0                45.0                 0     Ramicane    Male           9          17\n",
      "155       t565          0                45.0                 0    Capomulin  Female          20          17\n",
      "165       a644          0                45.0                 0     Ramicane  Female           7          17\n",
      "175       i177          0                45.0                 0     Ramicane    Male          10          18\n",
      "185       j989          0                45.0                 0     Ramicane    Male           8          19\n",
      "195       i738          0                45.0                 0    Capomulin  Female          23          20\n",
      "205       a520          0                45.0                 0     Ramicane    Male          13          21\n",
      "215       w914          0                45.0                 0    Capomulin    Male          24          21\n",
      "225       r811          0                45.0                 0     Ramicane    Male           9          19\n",
      "235       g288          0                45.0                 0    Capomulin    Male           3          19\n",
      "245       i334          0                45.0                 0     Ramicane  Female           8          20\n",
      "255       q610          0                45.0                 0     Ramicane  Female          18          21\n",
      "263       d251          0                45.0                 0     Ramicane  Female           8          19\n",
      "273       l897          0                45.0                 0    Capomulin    Male          17          19\n",
      "283       c458          0                45.0                 0     Ramicane  Female          23          20\n",
      "290       b742          0                45.0                 0    Capomulin    Male           7          21\n",
      "300       b128          0                45.0                 0    Capomulin  Female           9          22\n",
      "310       j246          0                45.0                 0    Capomulin  Female          21          21\n",
      "318       a411          0                45.0                 0     Ramicane    Male           3          22\n",
      "328       j119          0                45.0                 0    Capomulin  Female           7          23\n",
      "338       w150          0                45.0                 0    Capomulin    Male          23          23\n",
      "341       v923          0                45.0                 0    Capomulin  Female          19          21\n",
      "351       g316          0                45.0                 0    Capomulin  Female          22          22\n",
      "361       s710          0                45.0                 0    Capomulin  Female           1          23\n",
      "371       l509          0                45.0                 0    Capomulin    Male          17          21\n",
      "381       r944          0                45.0                 0    Capomulin    Male          12          25\n",
      "391       e662          0                45.0                 0     Ramicane    Male           8          24\n",
      "401       u196          0                45.0                 0     Ramicane    Male          18          25\n",
      "411       q597          0                45.0                 0     Ramicane    Male          20          25\n",
      "421       a444          0                45.0                 0     Ramicane  Female          10          25\n",
      "431       i557          0                45.0                 0    Capomulin  Female           1          24\n",
      "441       r921          0                45.0                 0     Ramicane  Female           5          25\n",
      "448       w678          0                45.0                 0     Ramicane  Female           5          24\n",
      "450       y449          0                45.0                 0     Ramicane    Male          19          24\n",
      "454       a203          0                45.0                 0    Infubinol  Female          20          23\n",
      "464       a251          0                45.0                 0    Infubinol  Female          21          25\n",
      "474       a262          0                45.0                 0      Placebo  Female          17          29\n",
      "484       a275          0                45.0                 0     Ceftamin  Female          20          28\n",
      "494       a366          0                45.0                 0     Stelasyn  Female          16          29\n",
      "501       a401          0                45.0                 0    Zoniferol  Female           8          25\n",
      "511       a457          0                45.0                 0     Ketapril  Female          11          30\n",
      "514       a492          0                45.0                 0     Stelasyn    Male          20          25\n",
      "524       a577          0                45.0                 0    Infubinol  Female           6          25\n",
      "531       a685          0                45.0                 0    Infubinol    Male           8          30\n",
      "541       a699          0                45.0                 0     Propriva  Female           5          28\n",
      "551       a788          0                45.0                 0    Zoniferol    Male           5          30\n",
      "558       a818          0                45.0                 0     Naftisol  Female          12          28\n",
      "568       a897          0                45.0                 0      Placebo    Male           7          28\n",
      "578       a963          0                45.0                 0     Stelasyn  Female          23          27\n",
      "588       b313          0                45.0                 0    Zoniferol    Male          12          27\n",
      "594       b447          0                45.0                 0     Ceftamin    Male           2          30\n",
      "595       b487          0                45.0                 0     Ceftamin  Female           6          28\n",
      "601       b559          0                45.0                 0     Naftisol    Male          20          26\n",
      "611       b759          0                45.0                 0     Ceftamin  Female          12          25\n",
      "618       b879          0                45.0                 0     Stelasyn  Female           4          26\n",
      "628       c139          0                45.0                 0    Infubinol    Male          11          28\n",
      "638       c264          0                45.0                 0    Zoniferol  Female          11          27\n",
      "648       c282          0                45.0                 0      Placebo    Male          12          27\n",
      "658       c302          0                45.0                 0    Zoniferol  Female          10          29\n",
      "668       c326          0                45.0                 0    Infubinol  Female          18          25\n",
      "670       c402          0                45.0                 0     Stelasyn  Female           1          27\n",
      "680       c559          0                45.0                 0    Zoniferol  Female          19          28\n",
      "690       c580          0                45.0                 0     Ketapril    Male          22          25\n",
      "697       c757          0                45.0                 0      Placebo    Male           9          27\n",
      "707       c766          0                45.0                 0      Placebo  Female          13          26\n",
      "717       c819          0                45.0                 0     Ketapril    Male          21          25\n",
      "726       c832          0                45.0                 0     Ketapril    Male          18          29\n",
      "736       c895          0                45.0                 0    Infubinol  Female           7          29\n",
      "743       c927          0                45.0                 0     Propriva  Female           4          26\n",
      "752       d133          0                45.0                 0    Zoniferol    Male           5          30\n",
      "753       d164          0                45.0                 0    Zoniferol    Male          21          28\n",
      "756       d474          0                45.0                 0     Ketapril    Male          18          27\n",
      "765       e213          0                45.0                 0     Naftisol    Male           8          27\n",
      "775       e227          0                45.0                 0      Placebo    Male           1          30\n",
      "785       e291          0                45.0                 0     Naftisol  Female          14          29\n",
      "791       e476          0                45.0                 0    Infubinol    Male          23          26\n",
      "801       e584          0                45.0                 0     Naftisol    Male           9          27\n",
      "811       f129          0                45.0                 0    Zoniferol  Female          11          29\n",
      "815       f234          0                45.0                 0     Stelasyn    Male          14          28\n",
      "823       f278          0                45.0                 0     Ketapril    Male          12          30\n",
      "825       f345          0                45.0                 0    Infubinol    Male          23          26\n",
      "835       f394          0                45.0                 0    Zoniferol    Male          19          30\n",
      "837       f436          0                45.0                 0     Ceftamin  Female           3          25\n",
      "841       f545          0                45.0                 0    Zoniferol  Female          20          26\n",
      "851       f932          0                45.0                 0     Ketapril    Male          15          29\n",
      "852       f993          0                45.0                 0     Naftisol    Male          21          28\n",
      "857       g107          0                45.0                 0     Ketapril  Female           2          29\n",
      "865       g296          0                45.0                 0    Zoniferol  Female          14          29\n",
      "875       g497          0                45.0                 0     Ketapril    Male          19          28\n",
      "885       g558          0                45.0                 0     Propriva    Male           8          29\n",
      "894       g570          0                45.0                 0     Propriva    Male          16          29\n",
      "904       g867          0                45.0                 0     Stelasyn  Female           9          25\n",
      "908       g989          0                45.0                 0     Propriva  Female          21          26\n",
      "921       h246          0                45.0                 0     Ketapril    Male          13          30\n",
      "931       h333          0                45.0                 0     Stelasyn    Male          21          27\n",
      "938       h428          0                45.0                 0     Ketapril  Female           1          27\n",
      "939       h531          0                45.0                 0     Ceftamin    Male           5          27\n",
      "941       i386          0                45.0                 0    Infubinol  Female          23          29\n",
      "950       i477          0                45.0                 0      Placebo  Female           3          30\n",
      "953       i635          0                45.0                 0     Propriva    Male          21          26\n",
      "963       i669          0                45.0                 0      Placebo  Female          18          27\n",
      "969       i901          0                45.0                 0     Stelasyn    Male          23          29\n",
      "979       j235          0                45.0                 0      Placebo    Male           6          30\n",
      "984       j296          0                45.0                 0     Ceftamin  Female          24          30\n",
      "994       j365          0                45.0                 0    Zoniferol    Male          24          28\n",
      "1004      j755          0                45.0                 0     Naftisol    Male          23          27\n",
      "1014      j984          0                45.0                 0     Stelasyn  Female           2          30\n",
      "1024      k210          0                45.0                 0     Ceftamin    Male          15          28\n",
      "1034      k382          0                45.0                 0     Ketapril    Male          22          29\n",
      "1044      k483          0                45.0                 0    Infubinol  Female          20          30\n",
      "1054      k510          0                45.0                 0     Stelasyn  Female           8          27\n",
      "1059      k603          0                45.0                 0     Propriva    Male           2          27\n",
      "1064      k754          0                45.0                 0    Zoniferol  Female           8          26\n",
      "1069      k804          0                45.0                 0    Infubinol  Female          23          29\n",
      "1077      k862          0                45.0                 0     Stelasyn  Female          13          25\n",
      "1087      k894          0                45.0                 0    Zoniferol  Female          13          29\n",
      "1097      l215          0                45.0                 0     Propriva    Male          10          29\n",
      "1100      l264          0                45.0                 0     Ketapril  Female          15          30\n",
      "1103      l471          0                45.0                 0     Ceftamin  Female           7          28\n",
      "1113      l490          0                45.0                 0     Ceftamin    Male          24          26\n",
      "1120      l558          0                45.0                 0     Ceftamin  Female          13          30\n",
      "1123      l661          0                45.0                 0     Ceftamin    Male          18          26\n",
      "1133      l700          0                45.0                 0     Naftisol  Female          18          27\n",
      "1143      l725          0                45.0                 0     Naftisol  Female           8          26\n",
      "1153      l733          0                45.0                 0     Ceftamin  Female           4          30\n",
      "1163      l872          0                45.0                 0      Placebo    Male          19          30\n",
      "1164      m133          0                45.0                 0     Naftisol  Female           2          26\n",
      "1170      m269          0                45.0                 0     Stelasyn  Female          22          28\n",
      "1180      m331          0                45.0                 0    Zoniferol  Female          19          26\n",
      "1184      m550          0                45.0                 0     Ketapril    Male          18          28\n",
      "1194      m650          0                45.0                 0     Ketapril    Male          15          27\n",
      "1204      m756          0                45.0                 0    Infubinol    Male          19          30\n",
      "1206      n304          0                45.0                 0     Naftisol    Male           9          26\n",
      "1216      n482          0                45.0                 0     Propriva  Female           4          29\n",
      "1217      n630          0                45.0                 0     Propriva  Female          15          29\n",
      "1219      n671          0                45.0                 0    Infubinol    Male          18          25\n",
      "1226      n678          0                45.0                 0     Propriva    Male           5          29\n",
      "1229      n763          0                45.0                 0      Placebo  Female          16          25\n",
      "1238      n923          0                45.0                 0     Ketapril    Male          19          30\n",
      "1247      n967          0                45.0                 0    Zoniferol    Male          11          27\n",
      "1251      o287          0                45.0                 0     Ceftamin    Male           2          28\n",
      "1261      o302          0                45.0                 0      Placebo  Female           2          29\n",
      "1268      o331          0                45.0                 0     Ketapril    Male          24          30\n",
      "1278      o523          0                45.0                 0     Propriva  Female           6          25\n",
      "1281      o562          0                45.0                 0     Propriva  Female           4          25\n",
      "1291      o725          0                45.0                 0     Naftisol    Male           4          26\n",
      "1295      o795          0                45.0                 0      Placebo  Female          20          26\n",
      "1305      o809          0                45.0                 0    Infubinol    Male           3          25\n",
      "1313      o813          0                45.0                 0    Infubinol    Male          24          28\n",
      "1315      o848          0                45.0                 0     Stelasyn  Female          14          27\n",
      "1316      o926          0                45.0                 0    Zoniferol    Male          15          29\n",
      "1326      o973          0                45.0                 0     Ketapril  Female          11          29\n",
      "1335      p136          0                45.0                 0    Zoniferol  Female           5          28\n",
      "1345      p189          0                45.0                 0     Ketapril    Male           8          28\n",
      "1355      p310          0                45.0                 0     Propriva    Male           6          26\n",
      "1361      p387          0                45.0                 0     Stelasyn    Male           3          30\n",
      "1370      p438          0                45.0                 0     Ceftamin  Female          11          26\n",
      "1380      p981          0                45.0                 0     Stelasyn    Male          20          29\n",
      "1388      q119          0                45.0                 0     Ketapril    Male          17          30\n",
      "1391      q132          0                45.0                 0    Infubinol  Female           1          30\n",
      "1398      q483          0                45.0                 0     Ceftamin    Male           6          26\n",
      "1407      q511          0                45.0                 0    Zoniferol  Female           2          28\n",
      "1417      q582          0                45.0                 0      Placebo    Male           5          30\n",
      "1425      q633          0                45.0                 0    Zoniferol    Male          12          25\n",
      "1435      q787          0                45.0                 0      Placebo    Male          17          27\n",
      "1445      r107          0                45.0                 0     Propriva  Female           2          28\n",
      "1452      r157          0                45.0                 0    Capomulin    Male          22          25\n",
      "1456      r604          0                45.0                 0     Naftisol    Male           7          30\n",
      "1466      r701          0                45.0                 0     Naftisol    Male          21          25\n",
      "1476      r850          0                45.0                 0      Placebo    Male           5          30\n",
      "1480      s121          0                45.0                 0    Infubinol    Male          23          26\n",
      "1486      s141          0                45.0                 0     Propriva    Male           8          25\n",
      "1493      s152          0                45.0                 0      Placebo  Female           4          30\n",
      "1499      s166          0                45.0                 0      Placebo    Male          19          27\n",
      "1502      s187          0                45.0                 0     Propriva    Male          22          25\n",
      "1509      s337          0                45.0                 0    Zoniferol    Male          14          27\n",
      "1519      s565          0                45.0                 0     Stelasyn  Female           3          29\n",
      "1529      s619          0                45.0                 0     Stelasyn    Male          22          30\n",
      "1531      t198          0                45.0                 0     Propriva    Male          22          26\n",
      "1541      t451          0                45.0                 0     Stelasyn    Male           8          29\n",
      "1551      t573          0                45.0                 0     Ceftamin  Female          15          27\n",
      "1552      t718          0                45.0                 0      Placebo  Female          10          30\n",
      "1562      t724          0                45.0                 0     Naftisol  Female           2          25\n",
      "1572      t994          0                45.0                 0      Placebo    Male          14          30\n",
      "1577      u149          0                45.0                 0     Ceftamin    Male          24          29\n",
      "1583      u153          0                45.0                 0     Ceftamin  Female          11          25\n",
      "1584      u327          0                45.0                 0     Ketapril    Male          17          25\n",
      "1594      u946          0                45.0                 0     Propriva    Male           5          30\n",
      "1599      v199          0                45.0                 0     Naftisol  Female          17          29\n",
      "1600      v289          0                45.0                 0     Ketapril  Female           3          26\n",
      "1606      v295          0                45.0                 0     Naftisol  Female           2          27\n",
      "1615      v339          0                45.0                 0    Infubinol    Male          20          26\n",
      "1617      v409          0                45.0                 0      Placebo  Female          16          25\n",
      "1620      v603          0                45.0                 0     Ketapril  Female          22          30\n",
      "1628      v719          0                45.0                 0    Infubinol  Female          17          30\n",
      "1633      v764          0                45.0                 0     Stelasyn  Female           5          30\n",
      "1637      v766          0                45.0                 0    Infubinol    Male          16          27\n",
      "1641      v835          0                45.0                 0     Naftisol    Male           7          29\n",
      "1646      v989          0                45.0                 0      Placebo    Male           4          25\n",
      "1649      v991          0                45.0                 0     Propriva  Female          10          30\n",
      "1659      w140          0                45.0                 0    Zoniferol  Female          19          30\n",
      "1661      w151          0                45.0                 0     Ceftamin    Male          24          25\n",
      "1671      w167          0                45.0                 0      Placebo  Female           6          28\n",
      "1679      w193          0                45.0                 0    Infubinol    Male          22          30\n",
      "1684      w350          0                45.0                 0     Propriva    Male           7          26\n",
      "1694      w422          0                45.0                 0     Ketapril  Female          18          26\n",
      "1704      w540          0                45.0                 0     Stelasyn  Female           8          26\n",
      "1710      w575          0                45.0                 0    Zoniferol  Female          16          28\n",
      "1720      w584          0                45.0                 0    Infubinol    Male           3          29\n",
      "1727      w697          0                45.0                 0     Stelasyn  Female          14          30\n",
      "1735      w746          0                45.0                 0     Propriva    Male           1          26\n",
      "1737      x111          0                45.0                 0     Propriva  Female          24          27\n",
      "1740      x209          0                45.0                 0     Propriva  Female           7          29\n",
      "1743      x226          0                45.0                 0     Ceftamin    Male          23          28\n",
      "1744      x264          0                45.0                 0     Naftisol  Female          21          27\n",
      "1753      x336          0                45.0                 0     Naftisol  Female           4          29\n",
      "1754      x402          0                45.0                 0     Stelasyn    Male          21          28\n",
      "1764      x581          0                45.0                 0     Ceftamin  Female          19          28\n",
      "1774      x613          0                45.0                 0    Zoniferol  Female           2          29\n",
      "1778      x773          0                45.0                 0      Placebo  Female          21          30\n",
      "1788      x822          0                45.0                 0     Ceftamin    Male           3          29\n",
      "1798      x930          0                45.0                 0     Naftisol    Male          13          26\n",
      "1804      y163          0                45.0                 0    Infubinol  Female          17          27\n",
      "1814      y260          0                45.0                 0     Ketapril  Female           7          25\n",
      "1824      y478          0                45.0                 0      Placebo  Female           3          25\n",
      "1834      y601          0                45.0                 0     Naftisol  Female          23          25\n",
      "1836      y769          0                45.0                 0     Ceftamin  Female           6          27\n",
      "1846      y865          0                45.0                 0     Ceftamin    Male          23          26\n",
      "1856      z234          0                45.0                 0     Naftisol  Female          19          27\n",
      "1858      z314          0                45.0                 0     Stelasyn  Female          21          28\n",
      "1860      z435          0                45.0                 0     Propriva  Female          12          26\n",
      "1863      z581          0                45.0                 0    Infubinol  Female          24          25\n",
      "1873      z795          0                45.0                 0     Naftisol  Female          13          29\n",
      "1883      z969          0                45.0                 0     Naftisol    Male           9          30\n"
     ]
    }
   ],
   "source": [
    "#Create a clean DataFrame by dropping the duplicate mouse by its ID.\n",
    "clean_mice = clinical_study_complete.drop_duplicates(subset='Mouse ID', keep='first')\n",
    "clean_mice = clean_mice[['Mouse ID', 'Timepoint', 'Tumor Volume (mm3)', \n",
    "                                                 'Metastatic Sites', 'Drug Regimen', 'Sex', 'Age_months', 'Weight (g)']]\n",
    "\n",
    "\n",
    "print(clean_mice.to_string(index=True, header=True, col_space=5))"
   ]
  },
  {
   "cell_type": "code",
   "execution_count": 33,
   "metadata": {},
   "outputs": [
    {
     "name": "stdout",
     "output_type": "stream",
     "text": [
      "249\n"
     ]
    }
   ],
   "source": [
    "# Checking the number of mice in the clean DataFrame.(answer should be 248)\n",
    "mice_count = clean_mice['Mouse ID'].nunique()\n",
    "print(mice_count)"
   ]
  },
  {
   "cell_type": "markdown",
   "metadata": {},
   "source": [
    "## Summary Statistics"
   ]
  },
  {
   "cell_type": "code",
   "execution_count": 8,
   "metadata": {},
   "outputs": [],
   "source": [
    "# Generate a summary statistics table of mean, median, variance, standard deviation, and SEM of the tumor volume for each regimen\n",
    "\n",
    "# Use groupby and summary statistical methods to calculate the following properties of each drug regimen: \n",
    "# mean, median, variance, standard deviation, and SEM of the tumor volume. \n",
    "# Assemble the resulting series into a single summary DataFrame.\n",
    "\n"
   ]
  },
  {
   "cell_type": "code",
   "execution_count": 9,
   "metadata": {},
   "outputs": [],
   "source": [
    "# Generate a summary statistics table of mean, median, variance, standard deviation, \n",
    "# and SEM of the tumor volume for each regimen\n",
    "\n",
    "# Using the aggregation method, produce the same summary statistics in a single line.\n"
   ]
  },
  {
   "cell_type": "markdown",
   "metadata": {},
   "source": [
    "## Bar and Pie Charts"
   ]
  },
  {
   "cell_type": "code",
   "execution_count": 10,
   "metadata": {},
   "outputs": [],
   "source": [
    "# Generate a bar plot showing the total number of timepoints for all mice tested for each drug regimen using Pandas.\n",
    "\n"
   ]
  },
  {
   "cell_type": "code",
   "execution_count": 11,
   "metadata": {},
   "outputs": [],
   "source": [
    "# Generate a bar plot showing the total number of timepoints for all mice tested for each drug regimen using pyplot.\n",
    "\n"
   ]
  },
  {
   "cell_type": "code",
   "execution_count": 12,
   "metadata": {},
   "outputs": [],
   "source": [
    "# Generate a pie plot showing the distribution of female versus male mice using Pandas\n",
    "\n"
   ]
  },
  {
   "cell_type": "code",
   "execution_count": 13,
   "metadata": {},
   "outputs": [],
   "source": [
    "# Generate a pie plot showing the distribution of female versus male mice using pyplot\n",
    "\n"
   ]
  },
  {
   "cell_type": "markdown",
   "metadata": {},
   "source": [
    "## Quartiles, Outliers and Boxplots"
   ]
  },
  {
   "cell_type": "code",
   "execution_count": 14,
   "metadata": {},
   "outputs": [],
   "source": [
    "# Calculate the final tumor volume of each mouse across four of the treatment regimens:  \n",
    "# Capomulin, Ramicane, Infubinol, and Ceftamin\n",
    "\n",
    "# Start by getting the last (greatest) timepoint for each mouse\n",
    "\n",
    "\n",
    "# Merge this group df with the original DataFrame to get the tumor volume at the last timepoint\n"
   ]
  },
  {
   "cell_type": "code",
   "execution_count": 15,
   "metadata": {},
   "outputs": [],
   "source": [
    "# Put treatments into a list for for loop (and later for plot labels)\n",
    "\n",
    "\n",
    "# Create empty list to fill with tumor vol data (for plotting)\n",
    "\n",
    "\n",
    "# Calculate the IQR and quantitatively determine if there are any potential outliers. \n",
    "\n",
    "    \n",
    "    # Locate the rows which contain mice on each drug and get the tumor volumes\n",
    "    \n",
    "    \n",
    "    # add subset \n",
    "    \n",
    "    \n",
    "    # Determine outliers using upper and lower bounds\n",
    "    "
   ]
  },
  {
   "cell_type": "code",
   "execution_count": 16,
   "metadata": {},
   "outputs": [],
   "source": [
    "# Generate a box plot that shows the distrubution of the tumor volume for each treatment group.\n",
    "\n"
   ]
  },
  {
   "cell_type": "markdown",
   "metadata": {},
   "source": [
    "## Line and Scatter Plots"
   ]
  },
  {
   "cell_type": "code",
   "execution_count": 17,
   "metadata": {},
   "outputs": [],
   "source": [
    "# Generate a line plot of tumor volume vs. time point for a mouse treated with Capomulin\n",
    "\n"
   ]
  },
  {
   "cell_type": "code",
   "execution_count": 18,
   "metadata": {},
   "outputs": [],
   "source": [
    "# Generate a scatter plot of average tumor volume vs. mouse weight for the Capomulin regimen\n",
    "\n"
   ]
  },
  {
   "cell_type": "markdown",
   "metadata": {},
   "source": [
    "## Correlation and Regression"
   ]
  },
  {
   "cell_type": "code",
   "execution_count": 19,
   "metadata": {},
   "outputs": [],
   "source": [
    "# Calculate the correlation coefficient and linear regression model \n",
    "# for mouse weight and average tumor volume for the Capomulin regimen\n",
    "\n"
   ]
  },
  {
   "cell_type": "code",
   "execution_count": null,
   "metadata": {},
   "outputs": [],
   "source": []
  }
 ],
 "metadata": {
  "anaconda-cloud": {},
  "kernelspec": {
   "display_name": "Python 3 (ipykernel)",
   "language": "python",
   "name": "python3"
  },
  "language_info": {
   "codemirror_mode": {
    "name": "ipython",
    "version": 3
   },
   "file_extension": ".py",
   "mimetype": "text/x-python",
   "name": "python",
   "nbconvert_exporter": "python",
   "pygments_lexer": "ipython3",
   "version": "3.9.13"
  }
 },
 "nbformat": 4,
 "nbformat_minor": 4
}
